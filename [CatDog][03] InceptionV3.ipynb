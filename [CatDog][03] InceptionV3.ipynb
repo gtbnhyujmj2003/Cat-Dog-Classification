{
  "nbformat": 4,
  "nbformat_minor": 0,
  "metadata": {
    "colab": {
      "name": "Copy of [CatDog] VGG16.ipynb",
      "provenance": [],
      "collapsed_sections": [],
      "mount_file_id": "16o-sgn1FiXiU3kXMSb2lUoS4u18DmKHB",
      "authorship_tag": "ABX9TyNWXl79s0iASBn996nd30/r",
      "include_colab_link": true
    },
    "kernelspec": {
      "name": "python3",
      "display_name": "Python 3"
    },
    "accelerator": "GPU"
  },
  "cells": [
    {
      "cell_type": "markdown",
      "metadata": {
        "id": "view-in-github",
        "colab_type": "text"
      },
      "source": [
        "<a href=\"https://colab.research.google.com/github/gtbnhyujmj2003/Cat-Dog-Classification/blob/master/%5BCatDog%5D%5B03%5D%20InceptionV3.ipynb\" target=\"_parent\"><img src=\"https://colab.research.google.com/assets/colab-badge.svg\" alt=\"Open In Colab\"/></a>"
      ]
    },
    {
      "cell_type": "code",
      "metadata": {
        "id": "eBfYvoyvNFFc",
        "colab_type": "code",
        "colab": {}
      },
      "source": [
        "%tensorflow_version 2.x"
      ],
      "execution_count": null,
      "outputs": []
    },
    {
      "cell_type": "code",
      "metadata": {
        "id": "S5sGnj8Dm4Oc",
        "colab_type": "code",
        "colab": {}
      },
      "source": [
        "# 因為圖片實在太多，所以要用壓縮檔載入\n",
        "import zipfile\n",
        "\n",
        "f = zipfile.ZipFile(\"/content/drive/My Drive/CatDog/train.zip\")\n",
        "f.extractall(\"./datasets\")"
      ],
      "execution_count": null,
      "outputs": []
    },
    {
      "cell_type": "code",
      "metadata": {
        "id": "Z0GwAedUsRIM",
        "colab_type": "code",
        "colab": {}
      },
      "source": [
        "from glob import glob\n",
        "\n",
        "# Cat = 0\n",
        "catfs = glob(\"./datasets/train/cat.*.jpg\")\n",
        "catans = [0] * len(catfs)\n",
        "\n",
        "# Dog = 1\n",
        "dogfs = glob(\"datasets/train/dog.*.jpg\")\n",
        "dogans = [1] * len(dogfs)"
      ],
      "execution_count": null,
      "outputs": []
    },
    {
      "cell_type": "code",
      "metadata": {
        "id": "fXUUTWZKsRFR",
        "colab_type": "code",
        "colab": {}
      },
      "source": [
        "# 製作表格\n",
        "import pandas as pd\n",
        "\n",
        "df = pd.DataFrame({\n",
        "    \"path\":catfs + dogfs,\n",
        "    \"target\":catans + dogans\n",
        "})"
      ],
      "execution_count": null,
      "outputs": []
    },
    {
      "cell_type": "code",
      "metadata": {
        "id": "2Kbm7r_TsRCm",
        "colab_type": "code",
        "colab": {}
      },
      "source": [
        "# 創造資料夾\n",
        "\n",
        "import os\n",
        "\n",
        "for class_num in range(2):\n",
        "  DATASET_PATH_TRAIN = '/content/train_images/'\n",
        "\n",
        "  # exist_ok：只有在目录不存在时创建目录，目录已存在时不会抛出异常。\n",
        "  os.makedirs(DATASET_PATH_TRAIN + str(class_num), exist_ok=True)"
      ],
      "execution_count": null,
      "outputs": []
    },
    {
      "cell_type": "code",
      "metadata": {
        "id": "lkss2ELqAoAR",
        "colab_type": "code",
        "colab": {}
      },
      "source": [
        "Size = 224"
      ],
      "execution_count": null,
      "outputs": []
    },
    {
      "cell_type": "code",
      "metadata": {
        "id": "3g4H-OO-sQ_y",
        "colab_type": "code",
        "colab": {}
      },
      "source": [
        "# 移動檔案\n",
        "import cv2\n",
        "import shutil\n",
        "from PIL import Image\n",
        "import numpy as np\n",
        "\n",
        "for class_num in range(2):\n",
        "  class_list = df[df[\"target\"] == class_num][\"path\"]\n",
        "\n",
        "  for path in class_list:\n",
        "    # 讀取檔案與轉換\n",
        "    image = Image.open(path)\n",
        "    image = image.resize((Size, Size))\n",
        "    array = np.array(image)\n",
        "    # array = np.reshape(array, newshape=(Size, Size, 3))\n",
        "    array = (array-127.5)/127.5\n",
        "\n",
        "    # 存檔\n",
        "    name = path.split(\"/\")[-1]\n",
        "    foldername = class_num\n",
        "    NewPaths = \"/content/train_images/\" + str(foldername) + \"/\" + str(name)\n",
        "    cv2.imwrite(NewPaths, array)"
      ],
      "execution_count": null,
      "outputs": []
    },
    {
      "cell_type": "code",
      "metadata": {
        "id": "jG02KKudHTxv",
        "colab_type": "code",
        "colab": {
          "base_uri": "https://localhost:8080/",
          "height": 34
        },
        "outputId": "67d2ebfd-7fe8-4751-f3f9-72333dfa8f90"
      },
      "source": [
        "# 看一下確定沒問題\n",
        "image = Image.open(\"/content/train_images/0/cat.0.jpg\")\n",
        "print(image)"
      ],
      "execution_count": null,
      "outputs": [
        {
          "output_type": "stream",
          "text": [
            "<PIL.JpegImagePlugin.JpegImageFile image mode=RGB size=224x224 at 0x7FA72B9A3F28>\n"
          ],
          "name": "stdout"
        }
      ]
    },
    {
      "cell_type": "code",
      "metadata": {
        "id": "mnJKozjusQ9H",
        "colab_type": "code",
        "colab": {}
      },
      "source": [
        "# Generator\n",
        "\n",
        "from tensorflow.keras.preprocessing.image import ImageDataGenerator\n",
        "Generator = ImageDataGenerator(rescale= 1. ,\n",
        "                               validation_split= 0.05)"
      ],
      "execution_count": null,
      "outputs": []
    },
    {
      "cell_type": "code",
      "metadata": {
        "id": "qdy_cQ7csQ3x",
        "colab_type": "code",
        "colab": {
          "base_uri": "https://localhost:8080/",
          "height": 51
        },
        "outputId": "53353fda-0d00-4964-dd4e-a35d74b31acf"
      },
      "source": [
        "TrainFlowGenerator = Generator.flow_from_directory(\n",
        "    directory= \"/content/train_images/\",\n",
        "    target_size= (Size, Size),\n",
        "    class_mode= \"sparse\", \n",
        "    subset= \"training\")\n",
        "\n",
        "ValidFlowGenetator = Generator.flow_from_directory(\n",
        "    directory= \"/content/train_images/\",\n",
        "    target_size= (Size, Size),\n",
        "    class_mode= \"sparse\", \n",
        "    subset= \"validation\")"
      ],
      "execution_count": null,
      "outputs": [
        {
          "output_type": "stream",
          "text": [
            "Found 23750 images belonging to 2 classes.\n",
            "Found 1250 images belonging to 2 classes.\n"
          ],
          "name": "stdout"
        }
      ]
    },
    {
      "cell_type": "code",
      "metadata": {
        "id": "pk3f9Hm3sQ1G",
        "colab_type": "code",
        "colab": {
          "base_uri": "https://localhost:8080/",
          "height": 71
        },
        "outputId": "420e1317-c674-4010-b7fd-7981e7fcc206"
      },
      "source": [
        "from tensorflow.keras.models import Model\n",
        "from tensorflow.keras.applications.vgg16 import VGG16\n",
        "from tensorflow.keras.applications import InceptionV3\n",
        "\n",
        "from tensorflow.keras.layers import Dense, Flatten, Dropout\n",
        "from tensorflow.keras.layers import GlobalAveragePooling2D\n",
        "\n",
        "InceptionV3 = InceptionV3(include_top=False, input_shape=(Size, Size, 3))\n",
        "\n",
        "for layers in InceptionV3.layers:\n",
        "    layers.trainable = True\n",
        "\n",
        "x = InceptionV3.output\n",
        "x = Flatten()(x)\n",
        "x = Dense(1024, activation=\"tanh\")(x)\n",
        "y = Dense(6, activation=\"softmax\")(x)\n",
        "\n",
        "model = Model(inputs= InceptionV3.input, outputs= y)\n",
        "# model.summary()"
      ],
      "execution_count": null,
      "outputs": [
        {
          "output_type": "stream",
          "text": [
            "Downloading data from https://storage.googleapis.com/tensorflow/keras-applications/inception_v3/inception_v3_weights_tf_dim_ordering_tf_kernels_notop.h5\n",
            "87916544/87910968 [==============================] - 1s 0us/step\n"
          ],
          "name": "stdout"
        }
      ]
    },
    {
      "cell_type": "code",
      "metadata": {
        "id": "XMJiDhV5sQyc",
        "colab_type": "code",
        "colab": {}
      },
      "source": [
        "from tensorflow.keras.optimizers import Adam\n",
        "from tensorflow.keras.losses import SparseCategoricalCrossentropy\n",
        "\n",
        "model.compile(optimizer= Adam(learning_rate=0.0001),\n",
        "              loss= SparseCategoricalCrossentropy(),\n",
        "              metrics= ['accuracy'],)"
      ],
      "execution_count": null,
      "outputs": []
    },
    {
      "cell_type": "code",
      "metadata": {
        "id": "eGCPbjeDw0xl",
        "colab_type": "code",
        "colab": {}
      },
      "source": [
        "history = model.fit(TrainFlowGenerator,\n",
        "                    epochs=50, verbose=2,\n",
        "                    validation_data= ValidFlowGenetator,\n",
        ")"
      ],
      "execution_count": null,
      "outputs": []
    },
    {
      "cell_type": "code",
      "metadata": {
        "id": "15vpYIn5w0uz",
        "colab_type": "code",
        "colab": {
          "base_uri": "https://localhost:8080/",
          "height": 295
        },
        "outputId": "c2852470-44f1-49e0-e3e2-aec4d9404150"
      },
      "source": [
        "# accuracy\n",
        "\n",
        "import matplotlib.pyplot as plt\n",
        "\n",
        "plt.plot(history.history['accuracy'])\n",
        "plt.plot(history.history['val_accuracy'])\n",
        "\n",
        "plt.title('model accuracy')\n",
        "\n",
        "plt.ylabel('accuracy')\n",
        "plt.xlabel('epoch')\n",
        "\n",
        "plt.legend(['Train', 'Valid'], loc='upper left') \n",
        "plt.show()"
      ],
      "execution_count": null,
      "outputs": [
        {
          "output_type": "display_data",
          "data": {
            "image/png": "[encoded data removed]",
            "text/plain": [
              "<Figure size 432x288 with 1 Axes>"
            ]
          },
          "metadata": {
            "tags": [],
            "needs_background": "light"
          }
        }
      ]
    },
    {
      "cell_type": "code",
      "metadata": {
        "id": "hd_D_JNgxHzq",
        "colab_type": "code",
        "colab": {}
      },
      "source": [
        "# 1. 過擬合問題嚴重\n",
        "# 2. 跟模型沒啥關係，VGG16也同樣嚴重\n",
        "# 3. Batch = 743，有點大，但是聽尹相志老師的影片說大大的Batch沒有關係。"
      ],
      "execution_count": null,
      "outputs": []
    }
  ]
}