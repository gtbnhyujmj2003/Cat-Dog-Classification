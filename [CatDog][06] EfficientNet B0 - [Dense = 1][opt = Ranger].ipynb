{
  "nbformat": 4,
  "nbformat_minor": 0,
  "metadata": {
    "colab": {
      "name": "[CatDog] Model.ipynb",
      "provenance": [],
      "collapsed_sections": [],
      "mount_file_id": "1E5SJtDqhNrq1UAxU7FWTb5S1H5GOVbeO",
      "authorship_tag": "ABX9TyM+xA+Bv+XKwiEho+fBXCwB",
      "include_colab_link": true
    },
    "kernelspec": {
      "name": "python3",
      "display_name": "Python 3"
    },
    "accelerator": "GPU"
  },
  "cells": [
    {
      "cell_type": "markdown",
      "metadata": {
        "id": "view-in-github",
        "colab_type": "text"
      },
      "source": [
        "<a href=\"https://colab.research.google.com/github/gtbnhyujmj2003/Cat-Dog-Classification/blob/master/%5BCatDog%5D%5B06%5D%20EfficientNet%20B0%20-%20%5BDense%20%3D%201%5D%5Bopt%20%3D%20Ranger%5D.ipynb\" target=\"_parent\"><img src=\"https://colab.research.google.com/assets/colab-badge.svg\" alt=\"Open In Colab\"/></a>"
      ]
    },
    {
      "cell_type": "code",
      "metadata": {
        "id": "mBGbt9rUEwgh",
        "colab_type": "code",
        "colab": {}
      },
      "source": [
        "%tensorflow_version 2.x\n",
        "!pip install -U efficientnet"
      ],
      "execution_count": null,
      "outputs": []
    },
    {
      "cell_type": "code",
      "metadata": {
        "id": "-UWZRQlSDBP4",
        "colab_type": "code",
        "colab": {}
      },
      "source": [
        "# 因為圖片實在太多，所以要用壓縮檔載入\n",
        "import zipfile\n",
        "\n",
        "f = zipfile.ZipFile(\"/content/drive/My Drive/CatDog/train.zip\")\n",
        "f.extractall(\"./datasets\")"
      ],
      "execution_count": 2,
      "outputs": []
    },
    {
      "cell_type": "code",
      "metadata": {
        "id": "4X9UY6zeDYGP",
        "colab_type": "code",
        "colab": {}
      },
      "source": [
        "from glob import glob\n",
        "\n",
        "# Cat = 0\n",
        "catfs = glob(\"./datasets/train/cat.*.jpg\")\n",
        "catans = [0] * len(catfs)\n",
        "\n",
        "# Dog = 1\n",
        "dogfs = glob(\"datasets/train/dog.*.jpg\")\n",
        "dogans = [1] * len(dogfs)"
      ],
      "execution_count": 3,
      "outputs": []
    },
    {
      "cell_type": "code",
      "metadata": {
        "id": "QNv6OG7pDYD1",
        "colab_type": "code",
        "colab": {}
      },
      "source": [
        "# 製作表格\n",
        "import pandas as pd\n",
        "\n",
        "df = pd.DataFrame({\n",
        "    \"path\":catfs + dogfs,\n",
        "    \"target\":catans + dogans\n",
        "})"
      ],
      "execution_count": 4,
      "outputs": []
    },
    {
      "cell_type": "code",
      "metadata": {
        "id": "uTOF9JmMDYBS",
        "colab_type": "code",
        "colab": {}
      },
      "source": [
        "# 創造資料夾\n",
        "\n",
        "import os\n",
        "\n",
        "for class_num in range(2):\n",
        "  DATASET_PATH_TRAIN = '/content/train_images/'\n",
        "\n",
        "  # exist_ok：只有在目录不存在时创建目录，目录已存在时不会抛出异常。\n",
        "  os.makedirs(DATASET_PATH_TRAIN + str(class_num), exist_ok=True)"
      ],
      "execution_count": 5,
      "outputs": []
    },
    {
      "cell_type": "code",
      "metadata": {
        "id": "pbaXBBT7DX-1",
        "colab_type": "code",
        "colab": {}
      },
      "source": [
        "# 移動檔案\n",
        "\n",
        "import shutil\n",
        "\n",
        "for class_num in range(2):\n",
        "  class_list = df[df[\"target\"] == class_num][\"path\"]\n",
        "\n",
        "  for OldPath in class_list:\n",
        "    name = OldPath.split(\"/\")[-1]\n",
        "    NewPath = '/content/train_images/' + str(class_num) + \"/\"\n",
        "    \n",
        "    shutil.move(OldPath, NewPath + str(name))"
      ],
      "execution_count": 6,
      "outputs": []
    },
    {
      "cell_type": "code",
      "metadata": {
        "id": "rRiimmzcLdze",
        "colab_type": "code",
        "colab": {}
      },
      "source": [
        ""
      ],
      "execution_count": 6,
      "outputs": []
    },
    {
      "cell_type": "code",
      "metadata": {
        "id": "E0YDvzD_H3JN",
        "colab_type": "code",
        "colab": {}
      },
      "source": [
        "Size = 224"
      ],
      "execution_count": 7,
      "outputs": []
    },
    {
      "cell_type": "code",
      "metadata": {
        "id": "JvQAUL8fJxTV",
        "colab_type": "code",
        "colab": {}
      },
      "source": [
        "# Generator\n",
        "\n",
        "from tensorflow.keras.preprocessing.image import ImageDataGenerator\n",
        "\n",
        "Generator = ImageDataGenerator(rescale= 1.0 / 255.0,\n",
        "                               validation_split= 0.2)"
      ],
      "execution_count": 8,
      "outputs": []
    },
    {
      "cell_type": "code",
      "metadata": {
        "id": "BiFUtFjGJxRI",
        "colab_type": "code",
        "colab": {
          "base_uri": "https://localhost:8080/",
          "height": 51
        },
        "outputId": "ddc78d94-d838-410d-e202-e02c92f5d1bc"
      },
      "source": [
        "TrainFlowGenerator = Generator.flow_from_directory(\n",
        "    directory= \"/content/train_images/\",\n",
        "    target_size= (Size, Size),\n",
        "    class_mode= \"binary\", \n",
        "    subset= \"training\")\n",
        "\n",
        "ValidFlowGenetator = Generator.flow_from_directory(\n",
        "    directory= \"/content/train_images/\",\n",
        "    target_size= (Size, Size),\n",
        "    class_mode= \"binary\", \n",
        "    subset= \"validation\")"
      ],
      "execution_count": 9,
      "outputs": [
        {
          "output_type": "stream",
          "text": [
            "Found 20000 images belonging to 2 classes.\n",
            "Found 5000 images belonging to 2 classes.\n"
          ],
          "name": "stdout"
        }
      ]
    },
    {
      "cell_type": "code",
      "metadata": {
        "id": "HpCevrRFDX8b",
        "colab_type": "code",
        "colab": {}
      },
      "source": [
        "from tensorflow.keras.applications.vgg16 import VGG16\n",
        "import efficientnet.tfkeras as efn\n",
        "\n",
        "from tensorflow.keras import Model\n",
        "import tensorflow.keras.layers as L\n",
        "\n",
        "System = efn.EfficientNetB0(input_shape = (Size, Size, 3),\n",
        "                            weights = 'imagenet',\n",
        "                            include_top = False)\n",
        "\n",
        "for layer in System.layers[ :10]:\n",
        "    layer.trainable = False\n",
        "\n",
        "for layer in System.layers[10: ]:\n",
        "    layer.trainable = True\n",
        "\n",
        "x = System.output\n",
        "x = L.GlobalMaxPooling2D()(x)\n",
        "x = L.BatchNormalization()(x)\n",
        "x = L.Dense(1, activation=\"selu\")(x)\n",
        "# x = L.Dropout(0.5)(x)\n",
        "y = L.Dense(1, activation='sigmoid')(x)\n",
        "\n",
        "model = Model(inputs= System.input, outputs= y)"
      ],
      "execution_count": 10,
      "outputs": []
    },
    {
      "cell_type": "code",
      "metadata": {
        "id": "cB1m-wQfDX54",
        "colab_type": "code",
        "colab": {}
      },
      "source": [
        "from tensorflow.keras.optimizers import Adam\n",
        "\n",
        "from tensorflow_addons.optimizers import Lookahead\n",
        "from tensorflow_addons.optimizers import RectifiedAdam\n",
        "\n",
        "Radam = RectifiedAdam(lr= 1e-4)\n",
        "Ranger = Lookahead(Radam, sync_period=6, slow_step_size=0.5)\n",
        "\n",
        "model.compile(optimizer= Ranger,\n",
        "              loss='binary_crossentropy',\n",
        "              metrics=['accuracy'])"
      ],
      "execution_count": 11,
      "outputs": []
    },
    {
      "cell_type": "code",
      "metadata": {
        "id": "d7wKxvjYLaKE",
        "colab_type": "code",
        "colab": {}
      },
      "source": [
        "history = model.fit(TrainFlowGenerator,\n",
        "                    epochs=50, verbose=2,\n",
        "                    validation_data= ValidFlowGenetator,\n",
        ")"
      ],
      "execution_count": null,
      "outputs": []
    },
    {
      "cell_type": "code",
      "metadata": {
        "id": "6-yVEK7miIIb",
        "colab_type": "code",
        "colab": {}
      },
      "source": [
        "# 少用 Dense\n",
        "# (Dense 512) 743/743 - 1087s - loss: 0.8883 - accuracy: 0.6062 - val_loss: 0.5847 - val_accuracy: 0.7112\n",
        "# (Dense 001) 625/625 - -181s - loss: 0.3906 - accuracy: 0.8629 - val_loss: 0.2345 - val_accuracy: 0.9760\n",
        "# 1087s 真是太久了。\n",
        "\n",
        "# Flatten + Dense 可以用 Global Pooling 系列取代掉 by 尹相志"
      ],
      "execution_count": 13,
      "outputs": []
    },
    {
      "cell_type": "code",
      "metadata": {
        "id": "tOpO3iNyLaHq",
        "colab_type": "code",
        "colab": {
          "base_uri": "https://localhost:8080/",
          "height": 295
        },
        "outputId": "100e4f1c-3f13-4575-c34a-3cdf5fc1cfcb"
      },
      "source": [
        "# accuracy\n",
        "\n",
        "import matplotlib.pyplot as plt\n",
        "\n",
        "plt.plot(history.history['accuracy'])\n",
        "plt.plot(history.history['val_accuracy'])\n",
        "\n",
        "plt.title('model accuracy')\n",
        "\n",
        "plt.ylabel('accuracy')\n",
        "plt.xlabel('epoch')\n",
        "\n",
        "plt.legend(['Train', 'Valid'], loc='upper left') \n",
        "plt.show()"
      ],
      "execution_count": 14,
      "outputs": [
        {
          "output_type": "display_data",
          "data": {
            "image/png": "[encoded data removed]",
            "text/plain": [
              "<Figure size 432x288 with 1 Axes>"
            ]
          },
          "metadata": {
            "tags": [],
            "needs_background": "light"
          }
        }
      ]
    },
    {
      "cell_type": "code",
      "metadata": {
        "id": "0woXFL7Odz5Q",
        "colab_type": "code",
        "colab": {}
      },
      "source": [
        "# 載入 真．驗證資料\n",
        "import zipfile\n",
        "\n",
        "f = zipfile.ZipFile(\"./drive/My Drive/CatDog/test1.zip\")\n",
        "f.extractall(\"./datasets_test/\")"
      ],
      "execution_count": 15,
      "outputs": []
    },
    {
      "cell_type": "code",
      "metadata": {
        "id": "1nLy85QYdz3C",
        "colab_type": "code",
        "colab": {
          "base_uri": "https://localhost:8080/",
          "height": 34
        },
        "outputId": "fb03239c-1912-44a8-d782-80759275387b"
      },
      "source": [
        "TestFlowed = Generator.flow_from_directory(\n",
        "    directory = \"/content/datasets_test/\",\n",
        "    target_size= (Size, Size),\n",
        "    class_mode= None,\n",
        "    shuffle= False, \n",
        "    )"
      ],
      "execution_count": 16,
      "outputs": [
        {
          "output_type": "stream",
          "text": [
            "Found 12500 images belonging to 1 classes.\n"
          ],
          "name": "stdout"
        }
      ]
    },
    {
      "cell_type": "code",
      "metadata": {
        "id": "CYrEnayydz0E",
        "colab_type": "code",
        "colab": {
          "base_uri": "https://localhost:8080/",
          "height": 34
        },
        "outputId": "c144404e-af5e-40b0-8da4-8daa7fc5cf82"
      },
      "source": [
        "predict = model.predict(TestFlowed, verbose=1).argmax(axis=-1)"
      ],
      "execution_count": 17,
      "outputs": [
        {
          "output_type": "stream",
          "text": [
            "391/391 [==============================] - 47s 121ms/step\n"
          ],
          "name": "stdout"
        }
      ]
    }
  ]
}